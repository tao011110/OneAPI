{
 "cells": [
  {
   "cell_type": "code",
   "execution_count": 3,
   "id": "bd6cc919",
   "metadata": {},
   "outputs": [
    {
     "name": "stdout",
     "output_type": "stream",
     "text": [
      "Scikit-learn MSE: 3.3503526989226966e-26\n",
      "OneAPI MSE: 1.1005578940670405e-27\n"
     ]
    }
   ],
   "source": [
    "import numpy as np\n",
    "from sklearn.datasets import make_regression\n",
    "from sklearn import datasets\n",
    "from sklearn.metrics import mean_squared_error\n",
    "from sklearn.linear_model import LinearRegression\n",
    "from sklearn.datasets import make_regression\n",
    "\n",
    "# 生成示例数据集\n",
    "X, Y = make_regression(n_samples=10000, n_features=10, random_state=42)\n",
    "\n",
    "# 划分训练集和测试集\n",
    "X_train, X_test = X[:8000], X[8000:]\n",
    "Y_train, Y_test = Y[:8000], Y[8000:]\n",
    "\n",
    "Y_train_2d = Y_train[:, np.newaxis]\n",
    "Y_test_2d = Y_test[:, np.newaxis]\n",
    "\n",
    "# 使用Scikit-learn进行线性回归\n",
    "sklearn_model = LinearRegression()\n",
    "sklearn_model.fit(X_train, Y_train_2d)\n",
    "sklearn_pred = sklearn_model.predict(X_test)\n",
    "sklearn_mse = mean_squared_error(Y_test_2d, sklearn_pred)\n",
    "print(\"Scikit-learn MSE:\", sklearn_mse)\n",
    "\n",
    "# 使用OneAPI进行线性回归\n",
    "from daal4py import linear_regression_prediction, linear_regression_training\n",
    "\n",
    "daal_model = linear_regression_training().compute(X_train, Y_train_2d)\n",
    "daal_pred = linear_regression_prediction().compute(X_test, daal_model.model).prediction\n",
    "daal_mse = mean_squared_error(Y_test, daal_pred)\n",
    "print(\"OneAPI MSE:\", daal_mse)\n"
   ]
  },
  {
   "cell_type": "code",
   "execution_count": null,
   "id": "acd2eca3",
   "metadata": {},
   "outputs": [],
   "source": []
  }
 ],
 "metadata": {
  "kernelspec": {
   "display_name": "Python 3.10.8",
   "language": "python",
   "name": "python3.10.8"
  },
  "language_info": {
   "codemirror_mode": {
    "name": "ipython",
    "version": 3
   },
   "file_extension": ".py",
   "mimetype": "text/x-python",
   "name": "python",
   "nbconvert_exporter": "python",
   "pygments_lexer": "ipython3",
   "version": "3.10.8"
  }
 },
 "nbformat": 4,
 "nbformat_minor": 5
}
